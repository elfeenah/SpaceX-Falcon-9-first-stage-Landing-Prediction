{
 "cells": [
  {
   "cell_type": "markdown",
   "metadata": {},
   "source": [
    "<p style=\"text-align:center\">\n",
    "    <a href=\"https://skills.network/?utm_medium=Exinfluencer&utm_source=Exinfluencer&utm_content=000026UJ&utm_term=10006555&utm_id=NA-SkillsNetwork-Channel-SkillsNetworkCoursesIBMDS0321ENSkillsNetwork865-2023-01-01\">\n",
    "    <img src=\"https://cf-courses-data.s3.us.cloud-object-storage.appdomain.cloud/assets/logos/SN_web_lightmode.png\" width=\"200\" alt=\"Skills Network Logo\"  />\n",
    "    </a>\n",
    "</p>\n"
   ]
  },
  {
   "cell_type": "markdown",
   "metadata": {},
   "source": [
    "# **Space X  Falcon 9 First Stage Landing Prediction**\n"
   ]
  },
  {
   "cell_type": "markdown",
   "metadata": {},
   "source": [
    "## Web scraping Falcon 9 and Falcon Heavy Launches Records from Wikipedia\n"
   ]
  },
  {
   "cell_type": "markdown",
   "metadata": {},
   "source": [
    "Estimated time needed: **40** minutes\n"
   ]
  },
  {
   "cell_type": "markdown",
   "metadata": {},
   "source": [
    "In this lab, you will be performing web scraping to collect Falcon 9 historical launch records from a Wikipedia page titled `List of Falcon 9 and Falcon Heavy launches`\n",
    "\n",
    "https://en.wikipedia.org/wiki/List_of_Falcon_9_and_Falcon_Heavy_launches\n"
   ]
  },
  {
   "cell_type": "markdown",
   "metadata": {},
   "source": [
    "![](https://cf-courses-data.s3.us.cloud-object-storage.appdomain.cloud/IBM-DS0321EN-SkillsNetwork/labs/module_1_L2/images/Falcon9_rocket_family.svg)\n"
   ]
  },
  {
   "cell_type": "markdown",
   "metadata": {},
   "source": [
    "Falcon 9 first stage will land successfully\n"
   ]
  },
  {
   "cell_type": "markdown",
   "metadata": {},
   "source": [
    "![](https://cf-courses-data.s3.us.cloud-object-storage.appdomain.cloud/IBMDeveloperSkillsNetwork-DS0701EN-SkillsNetwork/api/Images/landing_1.gif)\n"
   ]
  },
  {
   "cell_type": "markdown",
   "metadata": {},
   "source": [
    "Several examples of an unsuccessful landing are shown here:\n"
   ]
  },
  {
   "cell_type": "markdown",
   "metadata": {},
   "source": [
    "![](https://cf-courses-data.s3.us.cloud-object-storage.appdomain.cloud/IBMDeveloperSkillsNetwork-DS0701EN-SkillsNetwork/api/Images/crash.gif)\n"
   ]
  },
  {
   "cell_type": "markdown",
   "metadata": {},
   "source": [
    "More specifically, the launch records are stored in a HTML table shown below:\n"
   ]
  },
  {
   "cell_type": "markdown",
   "metadata": {},
   "source": [
    "![](https://cf-courses-data.s3.us.cloud-object-storage.appdomain.cloud/IBM-DS0321EN-SkillsNetwork/labs/module_1_L2/images/falcon9-launches-wiki.png)\n"
   ]
  },
  {
   "cell_type": "markdown",
   "metadata": {},
   "source": [
    "  ## Objectives\n",
    "Web scrap Falcon 9 launch records with `BeautifulSoup`: \n",
    "- Extract a Falcon 9 launch records HTML table from Wikipedia\n",
    "- Parse the table and convert it into a Pandas data frame\n"
   ]
  },
  {
   "cell_type": "markdown",
   "metadata": {},
   "source": [
    "First let's import required packages for this lab\n"
   ]
  },
  {
   "cell_type": "code",
   "execution_count": 12,
   "metadata": {
    "tags": []
   },
   "outputs": [
    {
     "name": "stdout",
     "output_type": "stream",
     "text": [
      "Requirement already satisfied: beautifulsoup4 in /home/jupyterlab/conda/envs/python/lib/python3.7/site-packages (4.11.1)\n",
      "Requirement already satisfied: soupsieve>1.2 in /home/jupyterlab/conda/envs/python/lib/python3.7/site-packages (from beautifulsoup4) (2.3.2.post1)\n",
      "Requirement already satisfied: requests in /home/jupyterlab/conda/envs/python/lib/python3.7/site-packages (2.29.0)\n",
      "Requirement already satisfied: charset-normalizer<4,>=2 in /home/jupyterlab/conda/envs/python/lib/python3.7/site-packages (from requests) (3.1.0)\n",
      "Requirement already satisfied: idna<4,>=2.5 in /home/jupyterlab/conda/envs/python/lib/python3.7/site-packages (from requests) (3.4)\n",
      "Requirement already satisfied: urllib3<1.27,>=1.21.1 in /home/jupyterlab/conda/envs/python/lib/python3.7/site-packages (from requests) (1.26.15)\n",
      "Requirement already satisfied: certifi>=2017.4.17 in /home/jupyterlab/conda/envs/python/lib/python3.7/site-packages (from requests) (2023.5.7)\n"
     ]
    }
   ],
   "source": [
    "!pip3 install beautifulsoup4\n",
    "!pip3 install requests"
   ]
  },
  {
   "cell_type": "code",
   "execution_count": 13,
   "metadata": {
    "tags": []
   },
   "outputs": [],
   "source": [
    "import sys\n",
    "\n",
    "import requests\n",
    "from bs4 import BeautifulSoup\n",
    "import re\n",
    "import unicodedata\n",
    "import pandas as pd"
   ]
  },
  {
   "cell_type": "markdown",
   "metadata": {},
   "source": [
    "and we will provide some helper functions for you to process web scraped HTML table\n"
   ]
  },
  {
   "cell_type": "code",
   "execution_count": 14,
   "metadata": {
    "tags": []
   },
   "outputs": [],
   "source": [
    "def date_time(table_cells):\n",
    "    \"\"\"\n",
    "    This function returns the data and time from the HTML  table cell\n",
    "    Input: the  element of a table data cell extracts extra row\n",
    "    \"\"\"\n",
    "    return [data_time.strip() for data_time in list(table_cells.strings)][0:2]\n",
    "\n",
    "def booster_version(table_cells):\n",
    "    \"\"\"\n",
    "    This function returns the booster version from the HTML  table cell \n",
    "    Input: the  element of a table data cell extracts extra row\n",
    "    \"\"\"\n",
    "    out=''.join([booster_version for i,booster_version in enumerate( table_cells.strings) if i%2==0][0:-1])\n",
    "    return out\n",
    "\n",
    "def landing_status(table_cells):\n",
    "    \"\"\"\n",
    "    This function returns the landing status from the HTML table cell \n",
    "    Input: the  element of a table data cell extracts extra row\n",
    "    \"\"\"\n",
    "    out=[i for i in table_cells.strings][0]\n",
    "    return out\n",
    "\n",
    "\n",
    "def get_mass(table_cells):\n",
    "    mass=unicodedata.normalize(\"NFKD\", table_cells.text).strip()\n",
    "    if mass:\n",
    "        mass.find(\"kg\")\n",
    "        new_mass=mass[0:mass.find(\"kg\")+2]\n",
    "    else:\n",
    "        new_mass=0\n",
    "    return new_mass\n",
    "\n",
    "\n",
    "def extract_column_from_header(row):\n",
    "    \"\"\"\n",
    "    This function returns the landing status from the HTML table cell \n",
    "    Input: the  element of a table data cell extracts extra row\n",
    "    \"\"\"\n",
    "    if (row.br):\n",
    "        row.br.extract()\n",
    "    if row.a:\n",
    "        row.a.extract()\n",
    "    if row.sup:\n",
    "        row.sup.extract()\n",
    "        \n",
    "    colunm_name = ' '.join(row.contents)\n",
    "    \n",
    "    # Filter the digit and empty names\n",
    "    if not(colunm_name.strip().isdigit()):\n",
    "        colunm_name = colunm_name.strip()\n",
    "        return colunm_name    \n"
   ]
  },
  {
   "cell_type": "markdown",
   "metadata": {},
   "source": [
    "To keep the lab tasks consistent, you will be asked to scrape the data from a snapshot of the  `List of Falcon 9 and Falcon Heavy launches` Wikipage updated on\n",
    "`9th June 2021`\n"
   ]
  },
  {
   "cell_type": "code",
   "execution_count": 15,
   "metadata": {
    "tags": []
   },
   "outputs": [],
   "source": [
    "static_url = \"https://en.wikipedia.org/w/index.php?title=List_of_Falcon_9_and_Falcon_Heavy_launches&oldid=1027686922\""
   ]
  },
  {
   "cell_type": "markdown",
   "metadata": {},
   "source": [
    "Next, request the HTML page from the above URL and get a `response` object\n"
   ]
  },
  {
   "cell_type": "markdown",
   "metadata": {},
   "source": [
    "### TASK 1: Request the Falcon9 Launch Wiki page from its URL\n"
   ]
  },
  {
   "cell_type": "markdown",
   "metadata": {},
   "source": [
    "First, let's perform an HTTP GET method to request the Falcon9 Launch HTML page, as an HTTP response.\n"
   ]
  },
  {
   "cell_type": "code",
   "execution_count": 20,
   "metadata": {
    "tags": []
   },
   "outputs": [
    {
     "name": "stdout",
     "output_type": "stream",
     "text": [
      "<Response [200]>\n"
     ]
    }
   ],
   "source": [
    "import requests\n",
    "\n",
    "# URL of the Falcon 9 Launch Wiki page\n",
    "falcon9_url = \"https://en.wikipedia.org/wiki/Falcon_9\"\n",
    "\n",
    "# Send an HTTP GET request\n",
    "response = requests.get(falcon9_url)\n",
    "\n",
    "# Assign the response to an object\n",
    "data_object = response\n",
    "\n",
    "# Print the object to verify the response\n",
    "print(data_object)"
   ]
  },
  {
   "cell_type": "markdown",
   "metadata": {},
   "source": [
    "Create a `BeautifulSoup` object from the HTML `response`\n"
   ]
  },
  {
   "cell_type": "code",
   "execution_count": 21,
   "metadata": {
    "tags": []
   },
   "outputs": [],
   "source": [
    "from bs4 import BeautifulSoup\n",
    "\n",
    "# Create a BeautifulSoup object from the HTML response\n",
    "soup = BeautifulSoup(response.content, 'html.parser')"
   ]
  },
  {
   "cell_type": "markdown",
   "metadata": {},
   "source": [
    "Print the page title to verify if the `BeautifulSoup` object was created properly \n"
   ]
  },
  {
   "cell_type": "code",
   "execution_count": 22,
   "metadata": {
    "tags": []
   },
   "outputs": [
    {
     "name": "stdout",
     "output_type": "stream",
     "text": [
      "Falcon 9 - Wikipedia\n"
     ]
    }
   ],
   "source": [
    "# Check if the BeautifulSoup object was created properly\n",
    "if soup.title:\n",
    "    print(soup.title.text)\n",
    "else:\n",
    "    print(\"Page title not found.\")"
   ]
  },
  {
   "cell_type": "markdown",
   "metadata": {},
   "source": [
    "### TASK 2: Extract all column/variable names from the HTML table header\n"
   ]
  },
  {
   "cell_type": "markdown",
   "metadata": {},
   "source": [
    "Next, we want to collect all relevant column names from the HTML table header\n"
   ]
  },
  {
   "cell_type": "markdown",
   "metadata": {},
   "source": [
    "Let's try to find all tables on the wiki page first. If you need to refresh your memory about `BeautifulSoup`, please check the external reference link towards the end of this lab\n"
   ]
  },
  {
   "cell_type": "code",
   "execution_count": 23,
   "metadata": {
    "tags": []
   },
   "outputs": [
    {
     "name": "stdout",
     "output_type": "stream",
     "text": [
      "['Function', 'Manufacturer', 'Country of origin', 'Cost per launch', 'Size', 'Height', 'Diameter', 'Mass', 'Stages', 'Capacity', 'Payload to Low Earth orbit (LEO)', 'Orbital inclination', 'Mass', 'Payload to Geosynchronous transfer orbit (GTO)', 'Orbital inclination', 'Mass', 'Payload to Mars transfer orbit', 'Mass', '', 'Associated rockets', 'Derivative work', 'Launch history', 'Status', 'Launch sites', 'Total launches', 'Success(es)', 'Failure(s)', 'Partial failure(s)', 'Notable outcome(s)', 'Landings', 'First flight', 'Last flight', 'First stage', 'Powered by', 'Maximum thrust', 'Specific impulse', 'Burn time', 'Propellant', 'Second stage', 'Powered by', 'Maximum thrust', 'Specific impulse', 'Burn time', 'Propellant']\n"
     ]
    }
   ],
   "source": [
    "# Find the table on the webpage\n",
    "table = soup.find('table')\n",
    "\n",
    "# Find all table header tags within the table\n",
    "headers = table.find_all('th')\n",
    "\n",
    "# Extract the text content of each table header tag\n",
    "column_names = [header.text.strip() for header in headers]\n",
    "\n",
    "# Print the column names\n",
    "print(column_names)"
   ]
  },
  {
   "cell_type": "markdown",
   "metadata": {},
   "source": [
    "Starting from the third table is our target table contains the actual launch records.\n"
   ]
  },
  {
   "cell_type": "code",
   "execution_count": 24,
   "metadata": {},
   "outputs": [
    {
     "name": "stdout",
     "output_type": "stream",
     "text": [
      "<table class=\"multicol\" role=\"presentation\" style=\"border-collapse: collapse; padding: 0; border: 0; background:transparent; width:100%;\">\n",
      "<tbody><tr>\n",
      "<td style=\"text-align: left; vertical-align: top;\">\n",
      "<h3><span class=\"mw-headline\" id=\"Launch_outcomes\"> Launch outcomes</span><span class=\"mw-editsection\"><span class=\"mw-editsection-bracket\">[</span><a href=\"/w/index.php?title=List_of_Falcon_9_and_Falcon_Heavy_launches&amp;action=edit&amp;section=T-3\" title=\"Edit section: Launch outcomes\">edit</a><span class=\"mw-editsection-bracket\">]</span></span></h3>\n",
      "<div class=\"chart noresize\" style=\"margin-top:1em;max-width:480px;\">\n",
      "<div style=\"position:relative;min-height:320px;min-width:480px;max-width:480px;\">\n",
      "<div style=\"float:right;position:relative;min-height:240px;min-width:380px;max-width:380px;border-left:1px black solid;border-bottom:1px black solid;\">\n",
      "<div style=\"position:absolute;left:165px;top:237px;height:2px;min-width:19px;max-width:19px;background-color:Black;-webkit-print-color-adjust:exact;border:1px solid Black;border-bottom:none;overflow:hidden;\" title=\"Loss before launch: 1\"></div>\n",
      "<div style=\"position:absolute;left:138px;top:237px;height:2px;min-width:19px;max-width:19px;background-color:DarkRed;-webkit-print-color-adjust:exact;border:1px solid DarkRed;border-bottom:none;overflow:hidden;\" title=\"Loss during flight: 1\"></div>\n",
      "<div style=\"position:absolute;left:57px;top:237px;height:2px;min-width:19px;max-width:19px;background-color:Goldenrod;-webkit-print-color-adjust:exact;border:1px solid Goldenrod;border-bottom:none;overflow:hidden;\" title=\"Partial failure: 1\"></div>\n",
      "<div style=\"position:absolute;left:3px;top:234px;height:5px;min-width:19px;max-width:19px;background-color:ForestGreen;-webkit-print-color-adjust:exact;border:1px solid ForestGreen;border-bottom:none;overflow:hidden;\" title=\"Success (commercial and government): 2\"></div>\n",
      "<div style=\"position:absolute;left:57px;top:234px;height:2px;min-width:19px;max-width:19px;background-color:ForestGreen;-webkit-print-color-adjust:exact;border:1px solid ForestGreen;border-bottom:none;overflow:hidden;\" title=\"Success (commercial and government): 1\"></div>\n",
      "<div style=\"position:absolute;left:84px;top:231px;height:8px;min-width:19px;max-width:19px;background-color:ForestGreen;-webkit-print-color-adjust:exact;border:1px solid ForestGreen;border-bottom:none;overflow:hidden;\" title=\"Success (commercial and government): 3\"></div>\n",
      "<div style=\"position:absolute;left:111px;top:222px;height:17px;min-width:19px;max-width:19px;background-color:ForestGreen;-webkit-print-color-adjust:exact;border:1px solid ForestGreen;border-bottom:none;overflow:hidden;\" title=\"Success (commercial and government): 6\"></div>\n",
      "<div style=\"position:absolute;left:138px;top:219px;height:17px;min-width:19px;max-width:19px;background-color:ForestGreen;-webkit-print-color-adjust:exact;border:1px solid ForestGreen;border-bottom:none;overflow:hidden;\" title=\"Success (commercial and government): 6\"></div>\n",
      "<div style=\"position:absolute;left:165px;top:213px;height:23px;min-width:19px;max-width:19px;background-color:ForestGreen;-webkit-print-color-adjust:exact;border:1px solid ForestGreen;border-bottom:none;overflow:hidden;\" title=\"Success (commercial and government): 8\"></div>\n",
      "<div style=\"position:absolute;left:192px;top:186px;height:53px;min-width:19px;max-width:19px;background-color:ForestGreen;-webkit-print-color-adjust:exact;border:1px solid ForestGreen;border-bottom:none;overflow:hidden;\" title=\"Success (commercial and government): 18\"></div>\n",
      "<div style=\"position:absolute;left:219px;top:177px;height:62px;min-width:19px;max-width:19px;background-color:ForestGreen;-webkit-print-color-adjust:exact;border:1px solid ForestGreen;border-bottom:none;overflow:hidden;\" title=\"Success (commercial and government): 21\"></div>\n",
      "<div style=\"position:absolute;left:246px;top:207px;height:32px;min-width:19px;max-width:19px;background-color:ForestGreen;-webkit-print-color-adjust:exact;border:1px solid ForestGreen;border-bottom:none;overflow:hidden;\" title=\"Success (commercial and government): 11\"></div>\n",
      "<div style=\"position:absolute;left:273px;top:204px;height:35px;min-width:19px;max-width:19px;background-color:ForestGreen;-webkit-print-color-adjust:exact;border:1px solid ForestGreen;border-bottom:none;overflow:hidden;\" title=\"Success (commercial and government): 12\"></div>\n",
      "<div style=\"position:absolute;left:300px;top:198px;height:41px;min-width:19px;max-width:19px;background-color:ForestGreen;-webkit-print-color-adjust:exact;border:1px solid ForestGreen;border-bottom:none;overflow:hidden;\" title=\"Success (commercial and government): 14\"></div>\n",
      "<div style=\"position:absolute;left:327px;top:159px;height:80px;min-width:19px;max-width:19px;background-color:ForestGreen;-webkit-print-color-adjust:exact;border:1px solid ForestGreen;border-bottom:none;overflow:hidden;\" title=\"Success (commercial and government): 27\"></div>\n",
      "<div style=\"position:absolute;left:354px;top:189px;height:50px;min-width:19px;max-width:19px;background-color:ForestGreen;-webkit-print-color-adjust:exact;border:1px solid ForestGreen;border-bottom:none;overflow:hidden;\" title=\"Success (commercial and government): 17\"></div>\n",
      "<div style=\"position:absolute;left:246px;top:201px;height:5px;min-width:19px;max-width:19px;background-color:DarkGreen;-webkit-print-color-adjust:exact;border:1px solid DarkGreen;border-bottom:none;overflow:hidden;\" title=\"Success ([[Starlink]]): 2\"></div>\n",
      "<div style=\"position:absolute;left:273px;top:162px;height:41px;min-width:19px;max-width:19px;background-color:DarkGreen;-webkit-print-color-adjust:exact;border:1px solid DarkGreen;border-bottom:none;overflow:hidden;\" title=\"Success ([[Starlink]]): 14\"></div>\n",
      "<div style=\"position:absolute;left:300px;top:147px;height:50px;min-width:19px;max-width:19px;background-color:DarkGreen;-webkit-print-color-adjust:exact;border:1px solid DarkGreen;border-bottom:none;overflow:hidden;\" title=\"Success ([[Starlink]]): 17\"></div>\n",
      "<div style=\"position:absolute;left:327px;top:57px;height:101px;min-width:19px;max-width:19px;background-color:DarkGreen;-webkit-print-color-adjust:exact;border:1px solid DarkGreen;border-bottom:none;overflow:hidden;\" title=\"Success ([[Starlink]]): 34\"></div>\n",
      "<div style=\"position:absolute;left:354px;top:138px;height:50px;min-width:19px;max-width:19px;background-color:DarkGreen;-webkit-print-color-adjust:exact;border:1px solid DarkGreen;border-bottom:none;overflow:hidden;\" title=\"Success ([[Starlink]]): 17\"></div>\n",
      "<div style=\"position:absolute;left:354px;top:39px;height:98px;min-width:19px;max-width:19px;background-color:LightBlue;-webkit-print-color-adjust:exact;border:1px solid LightBlue;border-bottom:none;overflow:hidden;\" title=\"Planned (commercial and government): 33\"></div>\n",
      "<div style=\"position:absolute;left:354px;top:27px;height:11px;min-width:19px;max-width:19px;background-color:DarkCyan;-webkit-print-color-adjust:exact;border:1px solid DarkCyan;border-bottom:none;overflow:hidden;\" title=\"Planned ([[Starlink]]): 4\"></div>\n",
      "</div>\n",
      "<div style=\"position:absolute;height:240px;min-width:100px;max-width:100px;\">\n",
      "<div style=\"position:absolute;height=20px;text-align:right;vertical-align:middle;width:90px;top:200px;padding:0 2px\">10</div>\n",
      "<div style=\"position:absolute;height=1px;min-width:5px;top:210px;left:96px;border:1px solid black;\"></div>\n",
      "<div style=\"position:absolute;height=20px;text-align:right;vertical-align:middle;width:90px;top:170px;padding:0 2px\">20</div>\n",
      "<div style=\"position:absolute;height=1px;min-width:5px;top:180px;left:96px;border:1px solid black;\"></div>\n",
      "<div style=\"position:absolute;height=20px;text-align:right;vertical-align:middle;width:90px;top:140px;padding:0 2px\">30</div>\n",
      "<div style=\"position:absolute;height=1px;min-width:5px;top:150px;left:96px;border:1px solid black;\"></div>\n",
      "<div style=\"position:absolute;height=20px;text-align:right;vertical-align:middle;width:90px;top:110px;padding:0 2px\">40</div>\n",
      "<div style=\"position:absolute;height=1px;min-width:5px;top:120px;left:96px;border:1px solid black;\"></div>\n",
      "<div style=\"position:absolute;height=20px;text-align:right;vertical-align:middle;width:90px;top:80px;padding:0 2px\">50</div>\n",
      "<div style=\"position:absolute;height=1px;min-width:5px;top:90px;left:96px;border:1px solid black;\"></div>\n",
      "<div style=\"position:absolute;height=20px;text-align:right;vertical-align:middle;width:90px;top:50px;padding:0 2px\">60</div>\n",
      "<div style=\"position:absolute;height=1px;min-width:5px;top:60px;left:96px;border:1px solid black;\"></div>\n",
      "<div style=\"position:absolute;height=20px;text-align:right;vertical-align:middle;width:90px;top:20px;padding:0 2px\">70</div>\n",
      "<div style=\"position:absolute;height=1px;min-width:5px;top:30px;left:96px;border:1px solid black;\"></div>\n",
      "<div style=\"position:absolute;height=20px;text-align:right;vertical-align:middle;width:90px;top:-10px;padding:0 2px\">80</div>\n",
      "<div style=\"position:absolute;height=1px;min-width:5px;top:0px;left:96px;border:1px solid black;\"></div>\n",
      "</div>\n",
      "<div style=\"position:absolute;top:240px;left:100px;width:380px;\">\n",
      "<div style=\"position:absolute;left:5px;top:10px;min-width:17px;max-width:17px;text-align:center;vertical-align:top;\">'10</div>\n",
      "<div style=\"position:absolute;left:13.5px;height:10px;width:1px;border-left:1px solid black;\"></div>\n",
      "<div style=\"position:absolute;left:32px;top:10px;min-width:17px;max-width:17px;text-align:center;vertical-align:top;\">'11</div>\n",
      "<div style=\"position:absolute;left:40.5px;height:10px;width:1px;border-left:1px solid black;\"></div>\n",
      "<div style=\"position:absolute;left:59px;top:10px;min-width:17px;max-width:17px;text-align:center;vertical-align:top;\">'12</div>\n",
      "<div style=\"position:absolute;left:67.5px;height:10px;width:1px;border-left:1px solid black;\"></div>\n",
      "<div style=\"position:absolute;left:86px;top:10px;min-width:17px;max-width:17px;text-align:center;vertical-align:top;\">'13</div>\n",
      "<div style=\"position:absolute;left:94.5px;height:10px;width:1px;border-left:1px solid black;\"></div>\n",
      "<div style=\"position:absolute;left:113px;top:10px;min-width:17px;max-width:17px;text-align:center;vertical-align:top;\">'14</div>\n",
      "<div style=\"position:absolute;left:121.5px;height:10px;width:1px;border-left:1px solid black;\"></div>\n",
      "<div style=\"position:absolute;left:140px;top:10px;min-width:17px;max-width:17px;text-align:center;vertical-align:top;\">'15</div>\n",
      "<div style=\"position:absolute;left:148.5px;height:10px;width:1px;border-left:1px solid black;\"></div>\n",
      "<div style=\"position:absolute;left:167px;top:10px;min-width:17px;max-width:17px;text-align:center;vertical-align:top;\">'16</div>\n",
      "<div style=\"position:absolute;left:175.5px;height:10px;width:1px;border-left:1px solid black;\"></div>\n",
      "<div style=\"position:absolute;left:194px;top:10px;min-width:17px;max-width:17px;text-align:center;vertical-align:top;\">'17</div>\n",
      "<div style=\"position:absolute;left:202.5px;height:10px;width:1px;border-left:1px solid black;\"></div>\n",
      "<div style=\"position:absolute;left:221px;top:10px;min-width:17px;max-width:17px;text-align:center;vertical-align:top;\">'18</div>\n",
      "<div style=\"position:absolute;left:229.5px;height:10px;width:1px;border-left:1px solid black;\"></div>\n",
      "<div style=\"position:absolute;left:248px;top:10px;min-width:17px;max-width:17px;text-align:center;vertical-align:top;\">'19</div>\n",
      "<div style=\"position:absolute;left:256.5px;height:10px;width:1px;border-left:1px solid black;\"></div>\n",
      "<div style=\"position:absolute;left:275px;top:10px;min-width:17px;max-width:17px;text-align:center;vertical-align:top;\">'20</div>\n",
      "<div style=\"position:absolute;left:283.5px;height:10px;width:1px;border-left:1px solid black;\"></div>\n",
      "<div style=\"position:absolute;left:302px;top:10px;min-width:17px;max-width:17px;text-align:center;vertical-align:top;\">'21</div>\n",
      "<div style=\"position:absolute;left:310.5px;height:10px;width:1px;border-left:1px solid black;\"></div>\n",
      "<div style=\"position:absolute;left:329px;top:10px;min-width:17px;max-width:17px;text-align:center;vertical-align:top;\">'22</div>\n",
      "<div style=\"position:absolute;left:337.5px;height:10px;width:1px;border-left:1px solid black;\"></div>\n",
      "<div style=\"position:absolute;left:356px;top:10px;min-width:17px;max-width:17px;text-align:center;vertical-align:top;\">'23</div>\n",
      "<div style=\"position:absolute;left:364.5px;height:10px;width:1px;border-left:1px solid black;\"></div>\n",
      "</div>\n",
      "</div>\n",
      "<div>\n",
      "<ul style=\"width:100%;list-style:none;column-width:12em;\"><li><span style=\"padding:0 1em;background-color:Black;border:1px solid Black;margin-right:1em;-webkit-print-color-adjust:exact;\"> </span> Loss before launch</li>\n",
      "<li><span style=\"padding:0 1em;background-color:DarkRed;border:1px solid DarkRed;margin-right:1em;-webkit-print-color-adjust:exact;\"> </span> Loss during flight</li>\n",
      "<li><span style=\"padding:0 1em;background-color:Goldenrod;border:1px solid Goldenrod;margin-right:1em;-webkit-print-color-adjust:exact;\"> </span> Partial failure</li>\n",
      "<li><span style=\"padding:0 1em;background-color:ForestGreen;border:1px solid ForestGreen;margin-right:1em;-webkit-print-color-adjust:exact;\"> </span> Success (commercial and government)</li>\n",
      "<li><span style=\"padding:0 1em;background-color:DarkGreen;border:1px solid DarkGreen;margin-right:1em;-webkit-print-color-adjust:exact;\"> </span> Success (<a href=\"/wiki/Starlink\" title=\"Starlink\">Starlink</a>)</li>\n",
      "<li><span style=\"padding:0 1em;background-color:LightBlue;border:1px solid LightBlue;margin-right:1em;-webkit-print-color-adjust:exact;\"> </span> Planned (commercial and government)</li>\n",
      "<li><span style=\"padding:0 1em;background-color:DarkCyan;border:1px solid DarkCyan;margin-right:1em;-webkit-print-color-adjust:exact;\"> </span> Planned (<a href=\"/wiki/Starlink\" title=\"Starlink\">Starlink</a>)</li></ul>\n",
      "</div>\n",
      "</div>\n",
      "<style data-mw-deduplicate=\"TemplateStyles:r1011085734\">.mw-parser-output .reflist{font-size:90%;margin-bottom:0.5em;list-style-type:decimal}.mw-parser-output .reflist .references{font-size:100%;margin-bottom:0;list-style-type:inherit}.mw-parser-output .reflist-columns-2{column-width:30em}.mw-parser-output .reflist-columns-3{column-width:25em}.mw-parser-output .reflist-columns{margin-top:0.3em}.mw-parser-output .reflist-columns ol{margin-top:0}.mw-parser-output .reflist-columns li{page-break-inside:avoid;break-inside:avoid-column}.mw-parser-output .reflist-upper-alpha{list-style-type:upper-alpha}.mw-parser-output .reflist-upper-roman{list-style-type:upper-roman}.mw-parser-output .reflist-lower-alpha{list-style-type:lower-alpha}.mw-parser-output .reflist-lower-greek{list-style-type:lower-greek}.mw-parser-output .reflist-lower-roman{list-style-type:lower-roman}</style><div class=\"reflist reflist-lower-roman\">\n",
      "</div>\n",
      "</td>\n",
      "<td style=\"text-align: left; vertical-align: top;\">\n",
      "<h3><span class=\"mw-headline\" id=\"Booster_landings\"> Booster landings</span><span class=\"mw-editsection\"><span class=\"mw-editsection-bracket\">[</span><a href=\"/w/index.php?title=List_of_Falcon_9_and_Falcon_Heavy_launches&amp;action=edit&amp;section=T-4\" title=\"Edit section: Booster landings\">edit</a><span class=\"mw-editsection-bracket\">]</span></span></h3>\n",
      "<div class=\"chart noresize\" style=\"margin-top:1em;max-width:480px;\">\n",
      "<div style=\"position:relative;min-height:320px;min-width:480px;max-width:480px;\">\n",
      "<div style=\"float:right;position:relative;min-height:240px;min-width:380px;max-width:380px;border-left:1px black solid;border-bottom:1px black solid;\">\n",
      "<div style=\"position:absolute;left:219px;top:237px;height:2px;min-width:19px;max-width:19px;background-color:Goldenrod;-webkit-print-color-adjust:exact;border:1px solid Goldenrod;border-bottom:none;overflow:hidden;\" title=\"Ground-pad failure: 1\"></div>\n",
      "<div style=\"position:absolute;left:138px;top:233px;height:6px;min-width:19px;max-width:19px;background-color:DarkRed;-webkit-print-color-adjust:exact;border:1px solid DarkRed;border-bottom:none;overflow:hidden;\" title=\"Drone-ship failure: 2\"></div>\n",
      "<div style=\"position:absolute;left:165px;top:230px;height:9px;min-width:19px;max-width:19px;background-color:DarkRed;-webkit-print-color-adjust:exact;border:1px solid DarkRed;border-bottom:none;overflow:hidden;\" title=\"Drone-ship failure: 3\"></div>\n",
      "<div style=\"position:absolute;left:219px;top:234px;height:2px;min-width:19px;max-width:19px;background-color:DarkRed;-webkit-print-color-adjust:exact;border:1px solid DarkRed;border-bottom:none;overflow:hidden;\" title=\"Drone-ship failure: 1\"></div>\n",
      "<div style=\"position:absolute;left:246px;top:237px;height:2px;min-width:19px;max-width:19px;background-color:DarkRed;-webkit-print-color-adjust:exact;border:1px solid DarkRed;border-bottom:none;overflow:hidden;\" title=\"Drone-ship failure: 1\"></div>\n",
      "<div style=\"position:absolute;left:273px;top:233px;height:6px;min-width:19px;max-width:19px;background-color:DarkRed;-webkit-print-color-adjust:exact;border:1px solid DarkRed;border-bottom:none;overflow:hidden;\" title=\"Drone-ship failure: 2\"></div>\n",
      "<div style=\"position:absolute;left:300px;top:237px;height:2px;min-width:19px;max-width:19px;background-color:DarkRed;-webkit-print-color-adjust:exact;border:1px solid DarkRed;border-bottom:none;overflow:hidden;\" title=\"Drone-ship failure: 1\"></div>\n",
      "<div style=\"position:absolute;left:84px;top:237px;height:2px;min-width:19px;max-width:19px;background-color:Black;-webkit-print-color-adjust:exact;border:1px solid Black;border-bottom:none;overflow:hidden;\" title=\"Ocean test failure: 1\"></div>\n",
      "<div style=\"position:absolute;left:111px;top:237px;height:2px;min-width:19px;max-width:19px;background-color:Black;-webkit-print-color-adjust:exact;border:1px solid Black;border-bottom:none;overflow:hidden;\" title=\"Ocean test failure: 1\"></div>\n",
      "<div style=\"position:absolute;left:3px;top:233px;height:6px;min-width:19px;max-width:19px;background-color:DimGrey;-webkit-print-color-adjust:exact;border:1px solid DimGrey;border-bottom:none;overflow:hidden;\" title=\"Parachute test failure: 2\"></div>\n",
      "<div style=\"position:absolute;left:138px;top:231px;height:2px;min-width:19px;max-width:19px;background-color:ForestGreen;-webkit-print-color-adjust:exact;border:1px solid ForestGreen;border-bottom:none;overflow:hidden;\" title=\"Ground-pad success: 1\"></div>\n",
      "<div style=\"position:absolute;left:165px;top:227px;height:2px;min-width:19px;max-width:19px;background-color:ForestGreen;-webkit-print-color-adjust:exact;border:1px solid ForestGreen;border-bottom:none;overflow:hidden;\" title=\"Ground-pad success: 1\"></div>\n",
      "<div style=\"position:absolute;left:192px;top:219px;height:20px;min-width:19px;max-width:19px;background-color:ForestGreen;-webkit-print-color-adjust:exact;border:1px solid ForestGreen;border-bottom:none;overflow:hidden;\" title=\"Ground-pad success: 6\"></div>\n",
      "<div style=\"position:absolute;left:219px;top:220px;height:13px;min-width:19px;max-width:19px;background-color:ForestGreen;-webkit-print-color-adjust:exact;border:1px solid ForestGreen;border-bottom:none;overflow:hidden;\" title=\"Ground-pad success: 4\"></div>\n",
      "<div style=\"position:absolute;left:246px;top:216px;height:20px;min-width:19px;max-width:19px;background-color:ForestGreen;-webkit-print-color-adjust:exact;border:1px solid ForestGreen;border-bottom:none;overflow:hidden;\" title=\"Ground-pad success: 6\"></div>\n",
      "<div style=\"position:absolute;left:273px;top:220px;height:13px;min-width:19px;max-width:19px;background-color:ForestGreen;-webkit-print-color-adjust:exact;border:1px solid ForestGreen;border-bottom:none;overflow:hidden;\" title=\"Ground-pad success: 4\"></div>\n",
      "<div style=\"position:absolute;left:300px;top:234px;height:2px;min-width:19px;max-width:19px;background-color:ForestGreen;-webkit-print-color-adjust:exact;border:1px solid ForestGreen;border-bottom:none;overflow:hidden;\" title=\"Ground-pad success: 1\"></div>\n",
      "<div style=\"position:absolute;left:327px;top:199px;height:40px;min-width:19px;max-width:19px;background-color:ForestGreen;-webkit-print-color-adjust:exact;border:1px solid ForestGreen;border-bottom:none;overflow:hidden;\" title=\"Ground-pad success: 12\"></div>\n",
      "<div style=\"position:absolute;left:354px;top:213px;height:26px;min-width:19px;max-width:19px;background-color:ForestGreen;-webkit-print-color-adjust:exact;border:1px solid ForestGreen;border-bottom:none;overflow:hidden;\" title=\"Ground-pad success: 8\"></div>\n",
      "<div style=\"position:absolute;left:165px;top:213px;height:13px;min-width:19px;max-width:19px;background-color:MediumBlue;-webkit-print-color-adjust:exact;border:1px solid MediumBlue;border-bottom:none;overflow:hidden;\" title=\"Drone-ship success: 4\"></div>\n",
      "<div style=\"position:absolute;left:192px;top:193px;height:26px;min-width:19px;max-width:19px;background-color:MediumBlue;-webkit-print-color-adjust:exact;border:1px solid MediumBlue;border-bottom:none;overflow:hidden;\" title=\"Drone-ship success: 8\"></div>\n",
      "<div style=\"position:absolute;left:219px;top:193px;height:26px;min-width:19px;max-width:19px;background-color:MediumBlue;-webkit-print-color-adjust:exact;border:1px solid MediumBlue;border-bottom:none;overflow:hidden;\" title=\"Drone-ship success: 8\"></div>\n",
      "<div style=\"position:absolute;left:246px;top:185px;height:30px;min-width:19px;max-width:19px;background-color:MediumBlue;-webkit-print-color-adjust:exact;border:1px solid MediumBlue;border-bottom:none;overflow:hidden;\" title=\"Drone-ship success: 9\"></div>\n",
      "<div style=\"position:absolute;left:273px;top:155px;height:64px;min-width:19px;max-width:19px;background-color:MediumBlue;-webkit-print-color-adjust:exact;border:1px solid MediumBlue;border-bottom:none;overflow:hidden;\" title=\"Drone-ship success: 19\"></div>\n",
      "<div style=\"position:absolute;left:300px;top:135px;height:98px;min-width:19px;max-width:19px;background-color:MediumBlue;-webkit-print-color-adjust:exact;border:1px solid MediumBlue;border-bottom:none;overflow:hidden;\" title=\"Drone-ship success: 29\"></div>\n",
      "<div style=\"position:absolute;left:327px;top:34px;height:164px;min-width:19px;max-width:19px;background-color:MediumBlue;-webkit-print-color-adjust:exact;border:1px solid MediumBlue;border-bottom:none;overflow:hidden;\" title=\"Drone-ship success: 48\"></div>\n",
      "<div style=\"position:absolute;left:354px;top:124px;height:88px;min-width:19px;max-width:19px;background-color:MediumBlue;-webkit-print-color-adjust:exact;border:1px solid MediumBlue;border-bottom:none;overflow:hidden;\" title=\"Drone-ship success: 26\"></div>\n",
      "<div style=\"position:absolute;left:111px;top:230px;height:6px;min-width:19px;max-width:19px;background-color:Darkgrey;-webkit-print-color-adjust:exact;border:1px solid Darkgrey;border-bottom:none;overflow:hidden;\" title=\"Ocean test success: 2\"></div>\n",
      "<div style=\"position:absolute;left:138px;top:227px;height:2px;min-width:19px;max-width:19px;background-color:Darkgrey;-webkit-print-color-adjust:exact;border:1px solid Darkgrey;border-bottom:none;overflow:hidden;\" title=\"Ocean test success: 1\"></div>\n",
      "<div style=\"position:absolute;left:192px;top:189px;height:2px;min-width:19px;max-width:19px;background-color:Darkgrey;-webkit-print-color-adjust:exact;border:1px solid Darkgrey;border-bottom:none;overflow:hidden;\" title=\"Ocean test success: 1\"></div>\n",
      "<div style=\"position:absolute;left:219px;top:189px;height:2px;min-width:19px;max-width:19px;background-color:Darkgrey;-webkit-print-color-adjust:exact;border:1px solid Darkgrey;border-bottom:none;overflow:hidden;\" title=\"Ocean test success: 1\"></div>\n",
      "<div style=\"position:absolute;left:57px;top:233px;height:6px;min-width:19px;max-width:19px;background-color:Gainsboro;-webkit-print-color-adjust:exact;border:1px solid Gainsboro;border-bottom:none;overflow:hidden;\" title=\"No attempt: 2\"></div>\n",
      "<div style=\"position:absolute;left:84px;top:230px;height:6px;min-width:19px;max-width:19px;background-color:Gainsboro;-webkit-print-color-adjust:exact;border:1px solid Gainsboro;border-bottom:none;overflow:hidden;\" title=\"No attempt: 2\"></div>\n",
      "<div style=\"position:absolute;left:111px;top:220px;height:9px;min-width:19px;max-width:19px;background-color:Gainsboro;-webkit-print-color-adjust:exact;border:1px solid Gainsboro;border-bottom:none;overflow:hidden;\" title=\"No attempt: 3\"></div>\n",
      "<div style=\"position:absolute;left:138px;top:217px;height:9px;min-width:19px;max-width:19px;background-color:Gainsboro;-webkit-print-color-adjust:exact;border:1px solid Gainsboro;border-bottom:none;overflow:hidden;\" title=\"No attempt: 3\"></div>\n",
      "<div style=\"position:absolute;left:192px;top:179px;height:9px;min-width:19px;max-width:19px;background-color:Gainsboro;-webkit-print-color-adjust:exact;border:1px solid Gainsboro;border-bottom:none;overflow:hidden;\" title=\"No attempt: 3\"></div>\n",
      "<div style=\"position:absolute;left:219px;top:162px;height:26px;min-width:19px;max-width:19px;background-color:Gainsboro;-webkit-print-color-adjust:exact;border:1px solid Gainsboro;border-bottom:none;overflow:hidden;\" title=\"No attempt: 8\"></div>\n",
      "<div style=\"position:absolute;left:246px;top:183px;height:2px;min-width:19px;max-width:19px;background-color:Gainsboro;-webkit-print-color-adjust:exact;border:1px solid Gainsboro;border-bottom:none;overflow:hidden;\" title=\"No attempt: 1\"></div>\n",
      "<div style=\"position:absolute;left:273px;top:152px;height:2px;min-width:19px;max-width:19px;background-color:Gainsboro;-webkit-print-color-adjust:exact;border:1px solid Gainsboro;border-bottom:none;overflow:hidden;\" title=\"No attempt: 1\"></div>\n",
      "<div style=\"position:absolute;left:327px;top:25px;height:9px;min-width:19px;max-width:19px;background-color:Gainsboro;-webkit-print-color-adjust:exact;border:1px solid Gainsboro;border-bottom:none;overflow:hidden;\" title=\"No attempt: 3\"></div>\n",
      "<div style=\"position:absolute;left:354px;top:110px;height:13px;min-width:19px;max-width:19px;background-color:Gainsboro;-webkit-print-color-adjust:exact;border:1px solid Gainsboro;border-bottom:none;overflow:hidden;\" title=\"No attempt: 4\"></div>\n",
      "</div>\n",
      "<div style=\"position:absolute;height:240px;min-width:100px;max-width:100px;\">\n",
      "<div style=\"position:absolute;height=20px;text-align:right;vertical-align:middle;width:90px;top:196px;padding:0 2px\">10</div>\n",
      "<div style=\"position:absolute;height=1px;min-width:5px;top:206px;left:96px;border:1px solid black;\"></div>\n",
      "<div style=\"position:absolute;height=20px;text-align:right;vertical-align:middle;width:90px;top:161px;padding:0 2px\">20</div>\n",
      "<div style=\"position:absolute;height=1px;min-width:5px;top:171px;left:96px;border:1px solid black;\"></div>\n",
      "<div style=\"position:absolute;height=20px;text-align:right;vertical-align:middle;width:90px;top:127px;padding:0 2px\">30</div>\n",
      "<div style=\"position:absolute;height=1px;min-width:5px;top:137px;left:96px;border:1px solid black;\"></div>\n",
      "<div style=\"position:absolute;height=20px;text-align:right;vertical-align:middle;width:90px;top:93px;padding:0 2px\">40</div>\n",
      "<div style=\"position:absolute;height=1px;min-width:5px;top:103px;left:96px;border:1px solid black;\"></div>\n",
      "<div style=\"position:absolute;height=20px;text-align:right;vertical-align:middle;width:90px;top:59px;padding:0 2px\">50</div>\n",
      "<div style=\"position:absolute;height=1px;min-width:5px;top:69px;left:96px;border:1px solid black;\"></div>\n",
      "<div style=\"position:absolute;height=20px;text-align:right;vertical-align:middle;width:90px;top:24px;padding:0 2px\">60</div>\n",
      "<div style=\"position:absolute;height=1px;min-width:5px;top:34px;left:96px;border:1px solid black;\"></div>\n",
      "<div style=\"position:absolute;height=20px;text-align:right;vertical-align:middle;width:90px;top:-10px;padding:0 2px\">70</div>\n",
      "<div style=\"position:absolute;height=1px;min-width:5px;top:0px;left:96px;border:1px solid black;\"></div>\n",
      "</div>\n",
      "<div style=\"position:absolute;top:240px;left:100px;width:380px;\">\n",
      "<div style=\"position:absolute;left:5px;top:10px;min-width:17px;max-width:17px;text-align:center;vertical-align:top;\">'10</div>\n",
      "<div style=\"position:absolute;left:13.5px;height:10px;width:1px;border-left:1px solid black;\"></div>\n",
      "<div style=\"position:absolute;left:32px;top:10px;min-width:17px;max-width:17px;text-align:center;vertical-align:top;\">'11</div>\n",
      "<div style=\"position:absolute;left:40.5px;height:10px;width:1px;border-left:1px solid black;\"></div>\n",
      "<div style=\"position:absolute;left:59px;top:10px;min-width:17px;max-width:17px;text-align:center;vertical-align:top;\">'12</div>\n",
      "<div style=\"position:absolute;left:67.5px;height:10px;width:1px;border-left:1px solid black;\"></div>\n",
      "<div style=\"position:absolute;left:86px;top:10px;min-width:17px;max-width:17px;text-align:center;vertical-align:top;\">'13</div>\n",
      "<div style=\"position:absolute;left:94.5px;height:10px;width:1px;border-left:1px solid black;\"></div>\n",
      "<div style=\"position:absolute;left:113px;top:10px;min-width:17px;max-width:17px;text-align:center;vertical-align:top;\">'14</div>\n",
      "<div style=\"position:absolute;left:121.5px;height:10px;width:1px;border-left:1px solid black;\"></div>\n",
      "<div style=\"position:absolute;left:140px;top:10px;min-width:17px;max-width:17px;text-align:center;vertical-align:top;\">'15</div>\n",
      "<div style=\"position:absolute;left:148.5px;height:10px;width:1px;border-left:1px solid black;\"></div>\n",
      "<div style=\"position:absolute;left:167px;top:10px;min-width:17px;max-width:17px;text-align:center;vertical-align:top;\">'16</div>\n",
      "<div style=\"position:absolute;left:175.5px;height:10px;width:1px;border-left:1px solid black;\"></div>\n",
      "<div style=\"position:absolute;left:194px;top:10px;min-width:17px;max-width:17px;text-align:center;vertical-align:top;\">'17</div>\n",
      "<div style=\"position:absolute;left:202.5px;height:10px;width:1px;border-left:1px solid black;\"></div>\n",
      "<div style=\"position:absolute;left:221px;top:10px;min-width:17px;max-width:17px;text-align:center;vertical-align:top;\">'18</div>\n",
      "<div style=\"position:absolute;left:229.5px;height:10px;width:1px;border-left:1px solid black;\"></div>\n",
      "<div style=\"position:absolute;left:248px;top:10px;min-width:17px;max-width:17px;text-align:center;vertical-align:top;\">'19</div>\n",
      "<div style=\"position:absolute;left:256.5px;height:10px;width:1px;border-left:1px solid black;\"></div>\n",
      "<div style=\"position:absolute;left:275px;top:10px;min-width:17px;max-width:17px;text-align:center;vertical-align:top;\">'20</div>\n",
      "<div style=\"position:absolute;left:283.5px;height:10px;width:1px;border-left:1px solid black;\"></div>\n",
      "<div style=\"position:absolute;left:302px;top:10px;min-width:17px;max-width:17px;text-align:center;vertical-align:top;\">'21</div>\n",
      "<div style=\"position:absolute;left:310.5px;height:10px;width:1px;border-left:1px solid black;\"></div>\n",
      "<div style=\"position:absolute;left:329px;top:10px;min-width:17px;max-width:17px;text-align:center;vertical-align:top;\">'22</div>\n",
      "<div style=\"position:absolute;left:337.5px;height:10px;width:1px;border-left:1px solid black;\"></div>\n",
      "<div style=\"position:absolute;left:356px;top:10px;min-width:17px;max-width:17px;text-align:center;vertical-align:top;\">'23</div>\n",
      "<div style=\"position:absolute;left:364.5px;height:10px;width:1px;border-left:1px solid black;\"></div>\n",
      "</div>\n",
      "</div>\n",
      "<div>\n",
      "<ul style=\"width:100%;list-style:none;column-width:12em;\"><li><span style=\"padding:0 1em;background-color:Goldenrod;border:1px solid Goldenrod;margin-right:1em;-webkit-print-color-adjust:exact;\"> </span> Ground-pad failure</li>\n",
      "<li><span style=\"padding:0 1em;background-color:DarkRed;border:1px solid DarkRed;margin-right:1em;-webkit-print-color-adjust:exact;\"> </span> Drone-ship failure</li>\n",
      "<li><span style=\"padding:0 1em;background-color:Black;border:1px solid Black;margin-right:1em;-webkit-print-color-adjust:exact;\"> </span> Ocean test failure<sup class=\"reference\" id=\"cite_ref-61\"><a href=\"#cite_note-61\">[i]</a></sup></li>\n",
      "<li><span style=\"padding:0 1em;background-color:DimGrey;border:1px solid DimGrey;margin-right:1em;-webkit-print-color-adjust:exact;\"> </span> Parachute test failure<sup class=\"reference\" id=\"cite_ref-62\"><a href=\"#cite_note-62\">[ii]</a></sup></li>\n",
      "<li><span style=\"padding:0 1em;background-color:ForestGreen;border:1px solid ForestGreen;margin-right:1em;-webkit-print-color-adjust:exact;\"> </span> Ground-pad success</li>\n",
      "<li><span style=\"padding:0 1em;background-color:MediumBlue;border:1px solid MediumBlue;margin-right:1em;-webkit-print-color-adjust:exact;\"> </span> Drone-ship success</li>\n",
      "<li><span style=\"padding:0 1em;background-color:Darkgrey;border:1px solid Darkgrey;margin-right:1em;-webkit-print-color-adjust:exact;\"> </span> Ocean test success<sup class=\"reference\" id=\"cite_ref-63\"><a href=\"#cite_note-63\">[iii]</a></sup></li>\n",
      "<li><span style=\"padding:0 1em;background-color:Gainsboro;border:1px solid Gainsboro;margin-right:1em;-webkit-print-color-adjust:exact;\"> </span> No attempt</li></ul>\n",
      "</div>\n",
      "</div><link href=\"mw-data:TemplateStyles:r1011085734\" rel=\"mw-deduplicated-inline-style\"/><div class=\"reflist reflist-lower-roman\">\n",
      "<div class=\"mw-references-wrap\"><ol class=\"references\">\n",
      "<li id=\"cite_note-61\"><span class=\"mw-cite-backlink\"><b><a href=\"#cite_ref-61\">^</a></b></span> <span class=\"reference-text\">Controlled descent; ocean touchdown control failed; no recovery</span>\n",
      "</li>\n",
      "<li id=\"cite_note-62\"><span class=\"mw-cite-backlink\"><b><a href=\"#cite_ref-62\">^</a></b></span> <span class=\"reference-text\">Passive reentry failed before parachute deployment</span>\n",
      "</li>\n",
      "<li id=\"cite_note-63\"><span class=\"mw-cite-backlink\"><b><a href=\"#cite_ref-63\">^</a></b></span> <span class=\"reference-text\">Controlled descent; soft vertical ocean touchdown; no recovery</span>\n",
      "</li>\n",
      "</ol></div></div>\n",
      "<p><br/>\n",
      "</p><p>\n",
      "</p>\n",
      "</td></tr></tbody></table>\n"
     ]
    }
   ],
   "source": [
    "# Find all tables on the webpage\n",
    "html_tables = soup.find_all('table')\n",
    "\n",
    "# Print the third table\n",
    "if len(html_tables) >= 3:\n",
    "    third_table = html_tables[2]\n",
    "    print(third_table)\n",
    "else:\n",
    "    print(\"There are less than three tables on the webpage.\")\n"
   ]
  },
  {
   "cell_type": "markdown",
   "metadata": {},
   "source": [
    "You should able to see the columns names embedded in the table header elements `<th>` as follows:\n"
   ]
  },
  {
   "cell_type": "markdown",
   "metadata": {},
   "source": [
    "```\n",
    "<tr>\n",
    "<th scope=\"col\">Flight No.\n",
    "</th>\n",
    "<th scope=\"col\">Date and<br/>time (<a href=\"/wiki/Coordinated_Universal_Time\" title=\"Coordinated Universal Time\">UTC</a>)\n",
    "</th>\n",
    "<th scope=\"col\"><a href=\"/wiki/List_of_Falcon_9_first-stage_boosters\" title=\"List of Falcon 9 first-stage boosters\">Version,<br/>Booster</a> <sup class=\"reference\" id=\"cite_ref-booster_11-0\"><a href=\"#cite_note-booster-11\">[b]</a></sup>\n",
    "</th>\n",
    "<th scope=\"col\">Launch site\n",
    "</th>\n",
    "<th scope=\"col\">Payload<sup class=\"reference\" id=\"cite_ref-Dragon_12-0\"><a href=\"#cite_note-Dragon-12\">[c]</a></sup>\n",
    "</th>\n",
    "<th scope=\"col\">Payload mass\n",
    "</th>\n",
    "<th scope=\"col\">Orbit\n",
    "</th>\n",
    "<th scope=\"col\">Customer\n",
    "</th>\n",
    "<th scope=\"col\">Launch<br/>outcome\n",
    "</th>\n",
    "<th scope=\"col\"><a href=\"/wiki/Falcon_9_first-stage_landing_tests\" title=\"Falcon 9 first-stage landing tests\">Booster<br/>landing</a>\n",
    "</th></tr>\n",
    "```\n"
   ]
  },
  {
   "cell_type": "markdown",
   "metadata": {},
   "source": [
    "Next, we just need to iterate through the `<th>` elements and apply the provided `extract_column_from_header()` to extract column name one by one\n"
   ]
  },
  {
   "cell_type": "code",
   "execution_count": 30,
   "metadata": {},
   "outputs": [],
   "source": [
    "def extract_column_from_header(row):\n",
    "    # Remove <sup> tags from the row\n",
    "    for sup_tag in row.find_all('sup'):\n",
    "        sup_tag.extract()\n",
    "\n",
    "    # Extract the column name\n",
    "    column_name = ''.join(str(content) for content in row.contents if isinstance(content, str)).strip()\n",
    "\n",
    "    # Filter out digits and empty names\n",
    "    if not column_name.isdigit() and len(column_name) > 0:\n",
    "        return column_name\n",
    "\n",
    "    return None\n"
   ]
  },
  {
   "cell_type": "markdown",
   "metadata": {},
   "source": [
    "Check the extracted column names\n"
   ]
  },
  {
   "cell_type": "code",
   "execution_count": 31,
   "metadata": {},
   "outputs": [
    {
     "name": "stdout",
     "output_type": "stream",
     "text": [
      "['Function', 'Manufacturer', 'Country of origin', 'Cost per launch', 'Size', 'Height', 'Diameter', 'Mass', 'Stages']\n"
     ]
    }
   ],
   "source": [
    "print(column_names)"
   ]
  },
  {
   "cell_type": "markdown",
   "metadata": {},
   "source": [
    "## TASK 3: Create a data frame by parsing the launch HTML tables\n"
   ]
  },
  {
   "cell_type": "markdown",
   "metadata": {},
   "source": [
    "We will create an empty dictionary with keys from the extracted column names in the previous task. Later, this dictionary will be converted into a Pandas dataframe\n"
   ]
  },
  {
   "cell_type": "code",
   "execution_count": 34,
   "metadata": {},
   "outputs": [],
   "source": [
    "# Check if the key exists before deleting\n",
    "if 'Date and time (UTC)' in launch_dict:\n",
    "    del launch_dict['Date and time (UTC)']\n",
    "\n",
    "# Initialize the launch_dict with each value as an empty list\n",
    "launch_dict['Flight No.'] = []\n",
    "launch_dict['Launch site'] = []\n",
    "launch_dict['Payload'] = []\n",
    "launch_dict['Payload mass'] = []\n",
    "launch_dict['Orbit'] = []\n",
    "launch_dict['Customer'] = []\n",
    "launch_dict['Launch outcome'] = []\n",
    "launch_dict['Version Booster'] = []  # Added new column\n",
    "launch_dict['Booster landing'] = []  # Added new column\n",
    "launch_dict['Date'] = []  # Added new column\n",
    "launch_dict['Time'] = []  # Added new column"
   ]
  },
  {
   "cell_type": "markdown",
   "metadata": {},
   "source": [
    "Next, we just need to fill up the `launch_dict` with launch records extracted from table rows.\n"
   ]
  },
  {
   "cell_type": "markdown",
   "metadata": {},
   "source": [
    "Usually, HTML tables in Wiki pages are likely to contain unexpected annotations and other types of noises, such as reference links `B0004.1[8]`, missing values `N/A [e]`, inconsistent formatting, etc.\n"
   ]
  },
  {
   "cell_type": "markdown",
   "metadata": {},
   "source": [
    "To simplify the parsing process, we have provided an incomplete code snippet below to help you to fill up the `launch_dict`. Please complete the following code snippet with TODOs or you can choose to write your own logic to parse all launch tables:\n"
   ]
  },
  {
   "cell_type": "code",
   "execution_count": 35,
   "metadata": {},
   "outputs": [],
   "source": [
    "extracted_row = 0\n",
    "#Extract each table \n",
    "for table_number,table in enumerate(soup.find_all('table',\"wikitable plainrowheaders collapsible\")):\n",
    "   # get table row \n",
    "    for rows in table.find_all(\"tr\"):\n",
    "        #check to see if first table heading is as number corresponding to launch a number \n",
    "        if rows.th:\n",
    "            if rows.th.string:\n",
    "                flight_number=rows.th.string.strip()\n",
    "                flag=flight_number.isdigit()\n",
    "        else:\n",
    "            flag=False\n",
    "        #get table element \n",
    "        row=rows.find_all('td')\n",
    "        #if it is number save cells in a dictonary \n",
    "        if flag:\n",
    "            extracted_row += 1\n",
    "            # Flight Number value\n",
    "            # TODO: Append the flight_number into launch_dict with key `Flight No.`\n",
    "            #print(flight_number)\n",
    "            datatimelist=date_time(row[0])\n",
    "            \n",
    "            # Date value\n",
    "            # TODO: Append the date into launch_dict with key `Date`\n",
    "            date = datatimelist[0].strip(',')\n",
    "            #print(date)\n",
    "            \n",
    "            # Time value\n",
    "            # TODO: Append the time into launch_dict with key `Time`\n",
    "            time = datatimelist[1]\n",
    "            #print(time)\n",
    "              \n",
    "            # Booster version\n",
    "            # TODO: Append the bv into launch_dict with key `Version Booster`\n",
    "            bv=booster_version(row[1])\n",
    "            if not(bv):\n",
    "                bv=row[1].a.string\n",
    "            print(bv)\n",
    "            \n",
    "            # Launch Site\n",
    "            # TODO: Append the bv into launch_dict with key `Launch Site`\n",
    "            launch_site = row[2].a.string\n",
    "            #print(launch_site)\n",
    "            \n",
    "            # Payload\n",
    "            # TODO: Append the payload into launch_dict with key `Payload`\n",
    "            payload = row[3].a.string\n",
    "            #print(payload)\n",
    "            \n",
    "            # Payload Mass\n",
    "            # TODO: Append the payload_mass into launch_dict with key `Payload mass`\n",
    "            payload_mass = get_mass(row[4])\n",
    "            #print(payload)\n",
    "            \n",
    "            # Orbit\n",
    "            # TODO: Append the orbit into launch_dict with key `Orbit`\n",
    "            orbit = row[5].a.string\n",
    "            #print(orbit)\n",
    "            \n",
    "            # Customer\n",
    "            # TODO: Append the customer into launch_dict with key `Customer`\n",
    "            customer = row[6].a.string\n",
    "            #print(customer)\n",
    "            \n",
    "            # Launch outcome\n",
    "            # TODO: Append the launch_outcome into launch_dict with key `Launch outcome`\n",
    "            launch_outcome = list(row[7].strings)[0]\n",
    "            #print(launch_outcome)\n",
    "            \n",
    "            # Booster landing\n",
    "            # TODO: Append the launch_outcome into launch_dict with key `Booster landing`\n",
    "            booster_landing = landing_status(row[8])\n",
    "            #print(booster_landing)\n",
    "            "
   ]
  },
  {
   "cell_type": "markdown",
   "metadata": {},
   "source": [
    "After you have fill in the parsed launch record values into `launch_dict`, you can create a dataframe from it.\n"
   ]
  },
  {
   "cell_type": "code",
   "execution_count": 36,
   "metadata": {},
   "outputs": [],
   "source": [
    "df=pd.DataFrame(launch_dict)"
   ]
  },
  {
   "cell_type": "markdown",
   "metadata": {},
   "source": [
    "We can now export it to a <b>CSV</b> for the next section, but to make the answers consistent and in case you have difficulties finishing this lab. \n",
    "\n",
    "Following labs will be using a provided dataset to make each lab independent. \n"
   ]
  },
  {
   "cell_type": "markdown",
   "metadata": {},
   "source": [
    "<code>df.to_csv('spacex_web_scraped.csv', index=False)</code>\n"
   ]
  },
  {
   "cell_type": "markdown",
   "metadata": {},
   "source": [
    "## Authors\n"
   ]
  },
  {
   "cell_type": "markdown",
   "metadata": {},
   "source": [
    "<a href=\"https://www.linkedin.com/in/yan-luo-96288783/?utm_medium=Exinfluencer&utm_source=Exinfluencer&utm_content=000026UJ&utm_term=10006555&utm_id=NA-SkillsNetwork-Channel-SkillsNetworkCoursesIBMDS0321ENSkillsNetwork865-2023-01-01\">Yan Luo</a>\n"
   ]
  },
  {
   "cell_type": "markdown",
   "metadata": {},
   "source": [
    "<a href=\"https://www.linkedin.com/in/nayefaboutayoun/?utm_medium=Exinfluencer&utm_source=Exinfluencer&utm_content=000026UJ&utm_term=10006555&utm_id=NA-SkillsNetwork-Channel-SkillsNetworkCoursesIBMDS0321ENSkillsNetwork865-2023-01-01\">Nayef Abou Tayoun</a>\n"
   ]
  },
  {
   "cell_type": "markdown",
   "metadata": {},
   "source": [
    "## Change Log\n"
   ]
  },
  {
   "cell_type": "markdown",
   "metadata": {},
   "source": [
    "| Date (YYYY-MM-DD) | Version | Changed By | Change Description      |\n",
    "| ----------------- | ------- | ---------- | ----------------------- |\n",
    "| 2023-05-24        | 3.0     | Nafisa Lawal Idris   | Solved all the task questions and moved lab to github repo.  |\n",
    "| 2021-06-09        | 1.0     | Yan Luo    | Tasks updates           |\n",
    "| 2020-11-10        | 1.0     | Nayef      | Created the initial version |\n"
   ]
  },
  {
   "cell_type": "markdown",
   "metadata": {},
   "source": [
    "Copyright © 2021 IBM Corporation. All rights reserved.\n"
   ]
  }
 ],
 "metadata": {
  "kernelspec": {
   "display_name": "Python",
   "language": "python",
   "name": "conda-env-python-py"
  },
  "language_info": {
   "codemirror_mode": {
    "name": "ipython",
    "version": 3
   },
   "file_extension": ".py",
   "mimetype": "text/x-python",
   "name": "python",
   "nbconvert_exporter": "python",
   "pygments_lexer": "ipython3",
   "version": "3.7.12"
  }
 },
 "nbformat": 4,
 "nbformat_minor": 4
}
